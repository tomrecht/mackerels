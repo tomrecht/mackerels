{
 "cells": [
  {
   "cell_type": "code",
   "execution_count": 23,
   "metadata": {},
   "outputs": [],
   "source": [
    "file = open('./word.list.txt', 'r')"
   ]
  },
  {
   "cell_type": "code",
   "execution_count": 24,
   "metadata": {},
   "outputs": [],
   "source": [
    "text = file.read()"
   ]
  },
  {
   "cell_type": "code",
   "execution_count": 26,
   "metadata": {},
   "outputs": [],
   "source": [
    "words = text.split()"
   ]
  },
  {
   "cell_type": "code",
   "execution_count": 30,
   "metadata": {},
   "outputs": [],
   "source": [
    "words.sort()"
   ]
  },
  {
   "cell_type": "code",
   "execution_count": 31,
   "metadata": {},
   "outputs": [],
   "source": [
    "w = sorted(words, key=len, reverse=True)"
   ]
  },
  {
   "cell_type": "code",
   "execution_count": 44,
   "metadata": {},
   "outputs": [],
   "source": [
    "states_cap = [\"Alabama\",\"Alaska\",\"Arizona\",\"Arkansas\",\"California\",\"Colorado\",\n",
    "  \"Connecticut\",\"Delaware\",\"Florida\",\"Georgia\",\"Hawaii\",\"Idaho\",\"Illinois\",\n",
    "  \"Indiana\",\"Iowa\",\"Kansas\",\"Kentucky\",\"Louisiana\",\"Maine\",\"Maryland\",\n",
    "  \"Massachusetts\",\"Michigan\",\"Minnesota\",\"Mississippi\",\"Missouri\",\"Montana\",\n",
    "  \"Nebraska\",\"Nevada\",\"New Hampshire\",\"New Jersey\",\"New Mexico\",\"New York\",\n",
    "  \"North Carolina\",\"North Dakota\",\"Ohio\",\"Oklahoma\",\"Oregon\",\"Pennsylvania\",\n",
    "  \"Rhode Island\",\"South Carolina\",\"South Dakota\",\"Tennessee\",\"Texas\",\"Utah\",\n",
    "  \"Vermont\",\"Virginia\",\"Washington\",\"West Virginia\",\"Wisconsin\",\"Wyoming\"]\n",
    "states = []"
   ]
  },
  {
   "cell_type": "code",
   "execution_count": 45,
   "metadata": {},
   "outputs": [],
   "source": [
    "for state in states_cap:\n",
    "    states.append(state.lower())"
   ]
  },
  {
   "cell_type": "code",
   "execution_count": 48,
   "metadata": {},
   "outputs": [],
   "source": [
    "def find_ohio(word):\n",
    "    matches = []\n",
    "    for state in states:\n",
    "        if len(matches) > 1:\n",
    "            return False\n",
    "        if len(set(state)&set(word)) == 0:\n",
    "            matches.append(state)\n",
    "    if len(matches) == 0:\n",
    "        return False\n",
    "    return matches[0]"
   ]
  },
  {
   "cell_type": "code",
   "execution_count": 53,
   "metadata": {},
   "outputs": [],
   "source": [
    "def find_longest_mackerel():\n",
    "    matches = {}\n",
    "    maxlen = 0\n",
    "    for word in w:\n",
    "        if len(word) < maxlen:\n",
    "            return matches\n",
    "        if find_ohio(word):\n",
    "            matches[word] = find_ohio(word)\n",
    "            maxlen = len(word)"
   ]
  },
  {
   "cell_type": "code",
   "execution_count": 55,
   "metadata": {},
   "outputs": [
    {
     "data": {
      "text/plain": [
       "{'counterproductivenesses': 'alabama',\n",
       " 'hydrochlorofluorocarbon': 'mississippi'}"
      ]
     },
     "execution_count": 55,
     "metadata": {},
     "output_type": "execute_result"
    }
   ],
   "source": [
    "find_longest_mackerel()"
   ]
  },
  {
   "cell_type": "code",
   "execution_count": 56,
   "metadata": {},
   "outputs": [
    {
     "data": {
      "text/plain": [
       "23"
      ]
     },
     "execution_count": 56,
     "metadata": {},
     "output_type": "execute_result"
    }
   ],
   "source": [
    "len('counterproductivenesses')"
   ]
  },
  {
   "cell_type": "code",
   "execution_count": 69,
   "metadata": {},
   "outputs": [],
   "source": [
    "def find_mackerels(state):\n",
    "    matches = []\n",
    "    for word in w:\n",
    "        if len(set(state)&set(word)) == 0:\n",
    "            matches.append(word)\n",
    "    return len(matches)"
   ]
  },
  {
   "cell_type": "code",
   "execution_count": 61,
   "metadata": {},
   "outputs": [],
   "source": [
    "mackerels = {}\n",
    "for state in states:\n",
    "    mackerels[state] = find_mackerels(state)"
   ]
  },
  {
   "cell_type": "code",
   "execution_count": 62,
   "metadata": {},
   "outputs": [
    {
     "data": {
      "text/plain": [
       "{'alabama': 52041,\n",
       " 'alaska': 24286,\n",
       " 'arizona': 5432,\n",
       " 'arkansas': 8527,\n",
       " 'california': 2209,\n",
       " 'colorado': 8288,\n",
       " 'connecticut': 2292,\n",
       " 'delaware': 8213,\n",
       " 'florida': 3112,\n",
       " 'georgia': 1169,\n",
       " 'hawaii': 31715,\n",
       " 'idaho': 9539,\n",
       " 'illinois': 7938,\n",
       " 'indiana': 20333,\n",
       " 'iowa': 15832,\n",
       " 'kansas': 19243,\n",
       " 'kentucky': 7028,\n",
       " 'louisiana': 1457,\n",
       " 'maine': 5167,\n",
       " 'maryland': 6107,\n",
       " 'massachusetts': 2425,\n",
       " 'michigan': 11634,\n",
       " 'minnesota': 370,\n",
       " 'mississippi': 25716,\n",
       " 'missouri': 5365,\n",
       " 'montana': 13463,\n",
       " 'nebraska': 2530,\n",
       " 'nevada': 11714,\n",
       " 'new hampshire': 675,\n",
       " 'new jersey': 4827,\n",
       " 'new mexico': 3842,\n",
       " 'new york': 6290,\n",
       " 'north carolina': 1240,\n",
       " 'north dakota': 3359,\n",
       " 'ohio': 42581,\n",
       " 'oklahoma': 20407,\n",
       " 'oregon': 9477,\n",
       " 'pennsylvania': 991,\n",
       " 'rhode island': 176,\n",
       " 'south carolina': 275,\n",
       " 'south dakota': 3317,\n",
       " 'tennessee': 9168,\n",
       " 'texas': 7492,\n",
       " 'utah': 35539,\n",
       " 'vermont': 4708,\n",
       " 'virginia': 11098,\n",
       " 'washington': 2026,\n",
       " 'west virginia': 893,\n",
       " 'wisconsin': 9324,\n",
       " 'wyoming': 18087}"
      ]
     },
     "execution_count": 62,
     "metadata": {},
     "output_type": "execute_result"
    }
   ],
   "source": [
    "mackerels"
   ]
  },
  {
   "cell_type": "code",
   "execution_count": 71,
   "metadata": {},
   "outputs": [
    {
     "data": {
      "text/plain": [
       "52041"
      ]
     },
     "execution_count": 71,
     "metadata": {},
     "output_type": "execute_result"
    }
   ],
   "source": [
    "max(mackerels.values())"
   ]
  }
 ],
 "metadata": {
  "kernelspec": {
   "display_name": "Python 3",
   "language": "python",
   "name": "python3"
  },
  "language_info": {
   "codemirror_mode": {
    "name": "ipython",
    "version": 3
   },
   "file_extension": ".py",
   "mimetype": "text/x-python",
   "name": "python",
   "nbconvert_exporter": "python",
   "pygments_lexer": "ipython3",
   "version": "3.7.4"
  }
 },
 "nbformat": 4,
 "nbformat_minor": 2
}
